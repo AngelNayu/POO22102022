{
 "cells": [
  {
   "cell_type": "code",
   "execution_count": 11,
   "id": "ef140ff6",
   "metadata": {},
   "outputs": [
    {
     "name": "stdout",
     "output_type": "stream",
     "text": [
      "Programa para comparar los datos\n",
      "Primero podra escoger la comparacion de visualizaciones en youtube\n",
      "Colocara los meses que quiera comparar, escribiendolo en mayusculas\n",
      "introduzca el primer mesENERO\n",
      "introduzca el segundo mesFEBRERO\n",
      "la diferencia de visualizaciones es: -3379\n"
     ]
    }
   ],
   "source": [
    "\n",
    "import pandas as pd\n",
    "datos=pd.read_csv('presenciaredes.csv',header = 0)\n",
    "df= pd.DataFrame(datos)\n",
    "print ('Programa para comparar los datos')\n",
    "print('Primero podra escoger la comparacion de visualizaciones en youtube')\n",
    "print('Colocara los meses que quiera comparar, escribiendolo en mayusculas')\n",
    "\n",
    "mes1= input('introduzca el primer mes')\n",
    "mes2= input('introduzca el segundo mes')\n",
    "\n",
    "vistas1= df[df['CONCEPTO']=='VISUALIZACIONES'][mes1]\n",
    "vistas2= df[df['CONCEPTO']=='VISUALIZACIONES'][mes2]\n",
    "\n",
    "print('la diferencia de visualizaciones es:',int(vistas1)-int(vistas2))\n"
   ]
  },
  {
   "cell_type": "code",
   "execution_count": 21,
   "id": "827af22d",
   "metadata": {},
   "outputs": [
    {
     "name": "stdout",
     "output_type": "stream",
     "text": [
      "Se mostrara a continuacion la diferencia de seguidores en Twitter entre el mes de Enero y Junio\n",
      "La diferencia de seguidores entre ambos meses es de:  5092 Seguidores\n"
     ]
    }
   ],
   "source": [
    "print('Se mostrara a continuacion la diferencia de seguidores en Twitter entre el mes de Enero y Junio')\n",
    "Tmes1= df[df['CONCEPTO']=='SEGUIDORES (FOLLOWERS)']['ENERO']\n",
    "Tmes2= df[df['CONCEPTO']=='SEGUIDORES (FOLLOWERS)']['JUNIO']\n",
    "\n",
    "print ('La diferencia de seguidores entre ambos meses es de: ', int(Tmes2)-int(Tmes1), 'Seguidores')"
   ]
  },
  {
   "cell_type": "code",
   "execution_count": null,
   "id": "b5439906",
   "metadata": {},
   "outputs": [],
   "source": []
  },
  {
   "cell_type": "code",
   "execution_count": null,
   "id": "f63587ce",
   "metadata": {},
   "outputs": [],
   "source": []
  }
 ],
 "metadata": {
  "kernelspec": {
   "display_name": "Python 3 (ipykernel)",
   "language": "python",
   "name": "python3"
  },
  "language_info": {
   "codemirror_mode": {
    "name": "ipython",
    "version": 3
   },
   "file_extension": ".py",
   "mimetype": "text/x-python",
   "name": "python",
   "nbconvert_exporter": "python",
   "pygments_lexer": "ipython3",
   "version": "3.10.4"
  }
 },
 "nbformat": 4,
 "nbformat_minor": 5
}
