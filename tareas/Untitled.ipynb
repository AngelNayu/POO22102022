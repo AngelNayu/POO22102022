{
 "cells": [
  {
   "cell_type": "code",
   "execution_count": null,
   "id": "1072a23d",
   "metadata": {},
   "outputs": [],
   "source": [
    "import pandas as pd\n",
    "datos=pd.read_csv('presenciaredes.csv',header = 0)\n",
    "df= pd.DataFrame(datos)\n",
    "print ('Programa para comparar los datos')\n",
    "print('se les mostrara la diferencia de seguidores en Twitter entre el mes de Junio y Enero ')\n"
   ]
  },
  {
   "cell_type": "code",
   "execution_count": null,
   "id": "7ff519dc",
   "metadata": {},
   "outputs": [],
   "source": []
  },
  {
   "cell_type": "code",
   "execution_count": null,
   "id": "61e210ec",
   "metadata": {},
   "outputs": [],
   "source": []
  }
 ],
 "metadata": {
  "kernelspec": {
   "display_name": "Python 3 (ipykernel)",
   "language": "python",
   "name": "python3"
  },
  "language_info": {
   "codemirror_mode": {
    "name": "ipython",
    "version": 3
   },
   "file_extension": ".py",
   "mimetype": "text/x-python",
   "name": "python",
   "nbconvert_exporter": "python",
   "pygments_lexer": "ipython3",
   "version": "3.10.4"
  }
 },
 "nbformat": 4,
 "nbformat_minor": 5
}
